{
 "cells": [
  {
   "cell_type": "markdown",
   "metadata": {},
   "source": [
    "# [CPSC 222](https://github.com/GonzagaCPSC222) Intro to Data Science\n",
    "[Gonzaga University](https://www.gonzaga.edu/)\n",
    "\n",
    "[Gina Sprint](http://cs.gonzaga.edu/faculty/sprint/)\n",
    "\n",
    "# List Lab\n",
    "\n",
    "Learner objectives for this lesson\n",
    "* Apply list methods\n",
    "* Delete items from a list\n",
    "* Understand the relationship between strings and lists"
   ]
  },
  {
   "cell_type": "markdown",
   "metadata": {},
   "source": [
    "## Problem 1\n",
    "Write code to do the following:\n",
    "\n",
    "### Step 1\n",
    "Initialize a list of a few of your favorite foods\n",
    "\n",
    "### Step 2\n",
    "Print out the number of items in the list\n",
    "\n",
    "### Step 3\n",
    "Replace the last item in the list with \"candy\"\n",
    "\n",
    "### Step 4\n",
    "Using a loop, print out each food separated by a comma and a space, all on the same line\n",
    "* Note: do not have an extra comma after the last element!\n",
    "\n",
    "Example output:\n",
    "`pizza, pasta, bread, salad, ice cream`\n",
    "\n",
    "Note: your output **should not** have hard brackets or quotes like the default output from `print(fav_foods)`:\n",
    "\n",
    "`['pizza', 'pasta', 'bread', 'salad', 'ice cream']`"
   ]
  },
  {
   "cell_type": "markdown",
   "metadata": {},
   "source": [
    "## Problem 2\n",
    "Write code that generates 100 numbers between 1 and 500 inclusive and puts them in a list. The program then does the following using the list:\n",
    "* Prints the numbers\n",
    "* Sorts the numbers\n",
    "* Prints the largest and smallest number in the list\n",
    "* Determines the number of times a user-specified number is in the list\n",
    "* Removes all instances of a user-specified number in the list\n",
    "\n",
    "### Step 1\n",
    "Create an empty list to store the 100 numbers."
   ]
  },
  {
   "cell_type": "markdown",
   "metadata": {},
   "source": [
    "### Step 2\n",
    "Write code to generate 100 random numbers between 1 and 200 store them in the list."
   ]
  },
  {
   "cell_type": "markdown",
   "metadata": {},
   "source": [
    "### Step 3\n",
    "Write code to print the list without the brackets. Create a separate function for this since you will be printing the list several times. "
   ]
  },
  {
   "cell_type": "markdown",
   "metadata": {},
   "source": [
    "### Step 4\n",
    "Write code that sorts the numbers in ascending order. Print the list after it is sorted."
   ]
  },
  {
   "cell_type": "markdown",
   "metadata": {},
   "source": [
    "### Step 5\n",
    "Write code to print the largest and smallest number in the list."
   ]
  },
  {
   "cell_type": "markdown",
   "metadata": {},
   "source": [
    "### Step 6\n",
    "Write code that prompts the user for a number between 1 and 200 and prints how many times that number is in the list. If the number is not in the list print the message: \"Sorry, your number is not here!\""
   ]
  },
  {
   "cell_type": "markdown",
   "metadata": {},
   "source": [
    "### (Tricky) Step 7\n",
    "Write code that prompts the user for a number between 1 and 500 and removes all instances of that item from the list (if it is in the list). If the number is not in the list print the message: \"Sorry, your number is not here!\""
   ]
  }
 ],
 "metadata": {
  "anaconda-cloud": {},
  "kernelspec": {
   "display_name": "Python 3",
   "language": "python",
   "name": "python3"
  },
  "language_info": {
   "codemirror_mode": {
    "name": "ipython",
    "version": 3
   },
   "file_extension": ".py",
   "mimetype": "text/x-python",
   "name": "python",
   "nbconvert_exporter": "python",
   "pygments_lexer": "ipython3",
   "version": "3.7.4"
  }
 },
 "nbformat": 4,
 "nbformat_minor": 4
}
